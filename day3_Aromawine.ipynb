{
 "cells": [
  {
   "cell_type": "markdown",
   "id": "horizontal-gather",
   "metadata": {},
   "source": [
    "## 실습 1: aromawine 데이터로 히트맵 그린 후 vif 구하기\n",
    "#### 종속변수는 Aroma, 나머지 변수들이 독립변수"
   ]
  },
  {
   "cell_type": "code",
   "execution_count": 1,
   "id": "cordless-special",
   "metadata": {},
   "outputs": [],
   "source": [
    "import numpy as np\n",
    "import pandas as pd\n",
    "import seaborn as sns\n",
    "import matplotlib.pyplot as plt\n",
    "from sklearn.metrics import mean_squared_error, r2_score\n",
    "from sklearn.model_selection import train_test_split\n",
    "from sklearn.linear_model import LinearRegression\n",
    "from sklearn.linear_model import Lasso\n",
    "from sklearn.linear_model import Ridge\n",
    "from sklearn.linear_model import ElasticNet\n",
    "from statsmodels.stats.outliers_influence import variance_inflation_factor"
   ]
  },
  {
   "cell_type": "code",
   "execution_count": 2,
   "id": "lucky-signature",
   "metadata": {},
   "outputs": [
    {
     "data": {
      "text/html": [
       "<div>\n",
       "<style scoped>\n",
       "    .dataframe tbody tr th:only-of-type {\n",
       "        vertical-align: middle;\n",
       "    }\n",
       "\n",
       "    .dataframe tbody tr th {\n",
       "        vertical-align: top;\n",
       "    }\n",
       "\n",
       "    .dataframe thead th {\n",
       "        text-align: right;\n",
       "    }\n",
       "</style>\n",
       "<table border=\"1\" class=\"dataframe\">\n",
       "  <thead>\n",
       "    <tr style=\"text-align: right;\">\n",
       "      <th></th>\n",
       "      <th>Mo</th>\n",
       "      <th>Ba</th>\n",
       "      <th>Cr</th>\n",
       "      <th>Sr</th>\n",
       "      <th>Pb</th>\n",
       "      <th>B</th>\n",
       "      <th>Mg</th>\n",
       "      <th>Ca</th>\n",
       "      <th>K</th>\n",
       "      <th>Aroma</th>\n",
       "    </tr>\n",
       "  </thead>\n",
       "  <tbody>\n",
       "    <tr>\n",
       "      <th>0</th>\n",
       "      <td>0.044</td>\n",
       "      <td>0.387</td>\n",
       "      <td>0.029</td>\n",
       "      <td>1.230</td>\n",
       "      <td>0.561</td>\n",
       "      <td>2.63</td>\n",
       "      <td>128.0</td>\n",
       "      <td>80.5</td>\n",
       "      <td>1130</td>\n",
       "      <td>3.3</td>\n",
       "    </tr>\n",
       "    <tr>\n",
       "      <th>1</th>\n",
       "      <td>0.160</td>\n",
       "      <td>0.312</td>\n",
       "      <td>0.038</td>\n",
       "      <td>0.975</td>\n",
       "      <td>0.697</td>\n",
       "      <td>6.21</td>\n",
       "      <td>193.0</td>\n",
       "      <td>75.0</td>\n",
       "      <td>1010</td>\n",
       "      <td>4.4</td>\n",
       "    </tr>\n",
       "    <tr>\n",
       "      <th>2</th>\n",
       "      <td>0.146</td>\n",
       "      <td>0.308</td>\n",
       "      <td>0.035</td>\n",
       "      <td>1.140</td>\n",
       "      <td>0.730</td>\n",
       "      <td>3.05</td>\n",
       "      <td>127.0</td>\n",
       "      <td>91.0</td>\n",
       "      <td>1160</td>\n",
       "      <td>3.9</td>\n",
       "    </tr>\n",
       "    <tr>\n",
       "      <th>3</th>\n",
       "      <td>0.191</td>\n",
       "      <td>0.165</td>\n",
       "      <td>0.036</td>\n",
       "      <td>0.927</td>\n",
       "      <td>0.796</td>\n",
       "      <td>2.57</td>\n",
       "      <td>112.0</td>\n",
       "      <td>93.6</td>\n",
       "      <td>924</td>\n",
       "      <td>3.9</td>\n",
       "    </tr>\n",
       "    <tr>\n",
       "      <th>4</th>\n",
       "      <td>0.363</td>\n",
       "      <td>0.380</td>\n",
       "      <td>0.059</td>\n",
       "      <td>1.130</td>\n",
       "      <td>1.730</td>\n",
       "      <td>3.07</td>\n",
       "      <td>138.0</td>\n",
       "      <td>84.6</td>\n",
       "      <td>1090</td>\n",
       "      <td>5.6</td>\n",
       "    </tr>\n",
       "  </tbody>\n",
       "</table>\n",
       "</div>"
      ],
      "text/plain": [
       "      Mo     Ba     Cr     Sr     Pb     B     Mg    Ca     K  Aroma\n",
       "0  0.044  0.387  0.029  1.230  0.561  2.63  128.0  80.5  1130    3.3\n",
       "1  0.160  0.312  0.038  0.975  0.697  6.21  193.0  75.0  1010    4.4\n",
       "2  0.146  0.308  0.035  1.140  0.730  3.05  127.0  91.0  1160    3.9\n",
       "3  0.191  0.165  0.036  0.927  0.796  2.57  112.0  93.6   924    3.9\n",
       "4  0.363  0.380  0.059  1.130  1.730  3.07  138.0  84.6  1090    5.6"
      ]
     },
     "execution_count": 2,
     "metadata": {},
     "output_type": "execute_result"
    }
   ],
   "source": [
    "wine = pd.read_excel('./data/wine_aroma.xlsx')\n",
    "wine.head()"
   ]
  },
  {
   "cell_type": "code",
   "execution_count": 3,
   "id": "focused-remedy",
   "metadata": {},
   "outputs": [
    {
     "name": "stdout",
     "output_type": "stream",
     "text": [
      "<class 'pandas.core.frame.DataFrame'>\n",
      "RangeIndex: 25 entries, 0 to 24\n",
      "Data columns (total 10 columns):\n",
      " #   Column  Non-Null Count  Dtype  \n",
      "---  ------  --------------  -----  \n",
      " 0   Mo      25 non-null     float64\n",
      " 1   Ba      25 non-null     float64\n",
      " 2   Cr      25 non-null     float64\n",
      " 3   Sr      25 non-null     float64\n",
      " 4   Pb      25 non-null     float64\n",
      " 5   B       25 non-null     float64\n",
      " 6   Mg      25 non-null     float64\n",
      " 7   Ca      25 non-null     float64\n",
      " 8   K       25 non-null     int64  \n",
      " 9   Aroma   25 non-null     float64\n",
      "dtypes: float64(9), int64(1)\n",
      "memory usage: 2.1 KB\n"
     ]
    }
   ],
   "source": [
    "wine.info()"
   ]
  },
  {
   "cell_type": "code",
   "execution_count": 4,
   "id": "employed-loading",
   "metadata": {},
   "outputs": [
    {
     "data": {
      "text/html": [
       "<div>\n",
       "<style scoped>\n",
       "    .dataframe tbody tr th:only-of-type {\n",
       "        vertical-align: middle;\n",
       "    }\n",
       "\n",
       "    .dataframe tbody tr th {\n",
       "        vertical-align: top;\n",
       "    }\n",
       "\n",
       "    .dataframe thead th {\n",
       "        text-align: right;\n",
       "    }\n",
       "</style>\n",
       "<table border=\"1\" class=\"dataframe\">\n",
       "  <thead>\n",
       "    <tr style=\"text-align: right;\">\n",
       "      <th></th>\n",
       "      <th>Mo</th>\n",
       "      <th>Ba</th>\n",
       "      <th>Cr</th>\n",
       "      <th>Sr</th>\n",
       "      <th>Pb</th>\n",
       "      <th>B</th>\n",
       "      <th>Mg</th>\n",
       "      <th>Ca</th>\n",
       "      <th>K</th>\n",
       "      <th>Aroma</th>\n",
       "    </tr>\n",
       "  </thead>\n",
       "  <tbody>\n",
       "    <tr>\n",
       "      <th>count</th>\n",
       "      <td>25.000000</td>\n",
       "      <td>25.000000</td>\n",
       "      <td>25.000000</td>\n",
       "      <td>25.000000</td>\n",
       "      <td>25.000000</td>\n",
       "      <td>25.000000</td>\n",
       "      <td>25.000000</td>\n",
       "      <td>25.000000</td>\n",
       "      <td>25.000000</td>\n",
       "      <td>25.000000</td>\n",
       "    </tr>\n",
       "    <tr>\n",
       "      <th>mean</th>\n",
       "      <td>0.159760</td>\n",
       "      <td>0.208080</td>\n",
       "      <td>0.043160</td>\n",
       "      <td>0.791880</td>\n",
       "      <td>0.734480</td>\n",
       "      <td>4.914000</td>\n",
       "      <td>125.756000</td>\n",
       "      <td>75.516000</td>\n",
       "      <td>1104.360000</td>\n",
       "      <td>5.036000</td>\n",
       "    </tr>\n",
       "    <tr>\n",
       "      <th>std</th>\n",
       "      <td>0.107598</td>\n",
       "      <td>0.107533</td>\n",
       "      <td>0.021916</td>\n",
       "      <td>0.489982</td>\n",
       "      <td>0.473532</td>\n",
       "      <td>1.660417</td>\n",
       "      <td>34.019028</td>\n",
       "      <td>18.464779</td>\n",
       "      <td>214.846821</td>\n",
       "      <td>1.106375</td>\n",
       "    </tr>\n",
       "    <tr>\n",
       "      <th>min</th>\n",
       "      <td>0.009000</td>\n",
       "      <td>0.071000</td>\n",
       "      <td>0.006000</td>\n",
       "      <td>0.156000</td>\n",
       "      <td>0.025000</td>\n",
       "      <td>2.570000</td>\n",
       "      <td>75.900000</td>\n",
       "      <td>44.900000</td>\n",
       "      <td>820.000000</td>\n",
       "      <td>3.300000</td>\n",
       "    </tr>\n",
       "    <tr>\n",
       "      <th>25%</th>\n",
       "      <td>0.074000</td>\n",
       "      <td>0.099000</td>\n",
       "      <td>0.028000</td>\n",
       "      <td>0.358000</td>\n",
       "      <td>0.518000</td>\n",
       "      <td>3.300000</td>\n",
       "      <td>103.000000</td>\n",
       "      <td>64.300000</td>\n",
       "      <td>976.000000</td>\n",
       "      <td>4.300000</td>\n",
       "    </tr>\n",
       "    <tr>\n",
       "      <th>50%</th>\n",
       "      <td>0.147000</td>\n",
       "      <td>0.181000</td>\n",
       "      <td>0.038000</td>\n",
       "      <td>0.927000</td>\n",
       "      <td>0.697000</td>\n",
       "      <td>4.910000</td>\n",
       "      <td>120.000000</td>\n",
       "      <td>74.700000</td>\n",
       "      <td>1090.000000</td>\n",
       "      <td>4.800000</td>\n",
       "    </tr>\n",
       "    <tr>\n",
       "      <th>75%</th>\n",
       "      <td>0.191000</td>\n",
       "      <td>0.301000</td>\n",
       "      <td>0.059000</td>\n",
       "      <td>1.120000</td>\n",
       "      <td>0.796000</td>\n",
       "      <td>6.420000</td>\n",
       "      <td>140.000000</td>\n",
       "      <td>84.600000</td>\n",
       "      <td>1170.000000</td>\n",
       "      <td>5.600000</td>\n",
       "    </tr>\n",
       "    <tr>\n",
       "      <th>max</th>\n",
       "      <td>0.479000</td>\n",
       "      <td>0.387000</td>\n",
       "      <td>0.100000</td>\n",
       "      <td>2.140000</td>\n",
       "      <td>2.060000</td>\n",
       "      <td>8.110000</td>\n",
       "      <td>199.000000</td>\n",
       "      <td>122.000000</td>\n",
       "      <td>1810.000000</td>\n",
       "      <td>7.700000</td>\n",
       "    </tr>\n",
       "  </tbody>\n",
       "</table>\n",
       "</div>"
      ],
      "text/plain": [
       "              Mo         Ba         Cr         Sr         Pb          B  \\\n",
       "count  25.000000  25.000000  25.000000  25.000000  25.000000  25.000000   \n",
       "mean    0.159760   0.208080   0.043160   0.791880   0.734480   4.914000   \n",
       "std     0.107598   0.107533   0.021916   0.489982   0.473532   1.660417   \n",
       "min     0.009000   0.071000   0.006000   0.156000   0.025000   2.570000   \n",
       "25%     0.074000   0.099000   0.028000   0.358000   0.518000   3.300000   \n",
       "50%     0.147000   0.181000   0.038000   0.927000   0.697000   4.910000   \n",
       "75%     0.191000   0.301000   0.059000   1.120000   0.796000   6.420000   \n",
       "max     0.479000   0.387000   0.100000   2.140000   2.060000   8.110000   \n",
       "\n",
       "               Mg          Ca            K      Aroma  \n",
       "count   25.000000   25.000000    25.000000  25.000000  \n",
       "mean   125.756000   75.516000  1104.360000   5.036000  \n",
       "std     34.019028   18.464779   214.846821   1.106375  \n",
       "min     75.900000   44.900000   820.000000   3.300000  \n",
       "25%    103.000000   64.300000   976.000000   4.300000  \n",
       "50%    120.000000   74.700000  1090.000000   4.800000  \n",
       "75%    140.000000   84.600000  1170.000000   5.600000  \n",
       "max    199.000000  122.000000  1810.000000   7.700000  "
      ]
     },
     "execution_count": 4,
     "metadata": {},
     "output_type": "execute_result"
    }
   ],
   "source": [
    "wine.describe()"
   ]
  },
  {
   "cell_type": "code",
   "execution_count": 5,
   "id": "actual-potato",
   "metadata": {},
   "outputs": [],
   "source": [
    "INPUT = wine.drop(columns=['Aroma'])\n",
    "OUTPUT = wine['Aroma']"
   ]
  },
  {
   "cell_type": "code",
   "execution_count": 6,
   "id": "41054a76-c912-47cd-8d21-41e69784c8bc",
   "metadata": {},
   "outputs": [
    {
     "data": {
      "text/plain": [
       "<AxesSubplot:>"
      ]
     },
     "execution_count": 6,
     "metadata": {},
     "output_type": "execute_result"
    },
    {
     "data": {
      "image/png": "[encoded data removed]",
      "text/plain": [
       "<Figure size 720x720 with 2 Axes>"
      ]
     },
     "metadata": {
      "needs_background": "light"
     },
     "output_type": "display_data"
    }
   ],
   "source": [
    "plt.figure(figsize=(10,10))\n",
    "sns.heatmap(data=INPUT.corr(), annot=True, fmt='.4f', linewidths=.5, cmap='Blues')"
   ]
  },
  {
   "cell_type": "code",
   "execution_count": 7,
   "id": "94f68fee-8d26-4508-95b4-d708ab2cc736",
   "metadata": {},
   "outputs": [
    {
     "data": {
      "text/html": [
       "<div>\n",
       "<style scoped>\n",
       "    .dataframe tbody tr th:only-of-type {\n",
       "        vertical-align: middle;\n",
       "    }\n",
       "\n",
       "    .dataframe tbody tr th {\n",
       "        vertical-align: top;\n",
       "    }\n",
       "\n",
       "    .dataframe thead th {\n",
       "        text-align: right;\n",
       "    }\n",
       "</style>\n",
       "<table border=\"1\" class=\"dataframe\">\n",
       "  <thead>\n",
       "    <tr style=\"text-align: right;\">\n",
       "      <th></th>\n",
       "      <th>VIF Factor</th>\n",
       "      <th>features</th>\n",
       "    </tr>\n",
       "  </thead>\n",
       "  <tbody>\n",
       "    <tr>\n",
       "      <th>0</th>\n",
       "      <td>85.311791</td>\n",
       "      <td>Mo</td>\n",
       "    </tr>\n",
       "    <tr>\n",
       "      <th>1</th>\n",
       "      <td>28.700675</td>\n",
       "      <td>Ba</td>\n",
       "    </tr>\n",
       "    <tr>\n",
       "      <th>2</th>\n",
       "      <td>18.610717</td>\n",
       "      <td>Cr</td>\n",
       "    </tr>\n",
       "    <tr>\n",
       "      <th>3</th>\n",
       "      <td>40.164814</td>\n",
       "      <td>Sr</td>\n",
       "    </tr>\n",
       "    <tr>\n",
       "      <th>4</th>\n",
       "      <td>95.631351</td>\n",
       "      <td>Pb</td>\n",
       "    </tr>\n",
       "    <tr>\n",
       "      <th>5</th>\n",
       "      <td>27.587390</td>\n",
       "      <td>B</td>\n",
       "    </tr>\n",
       "    <tr>\n",
       "      <th>6</th>\n",
       "      <td>61.935836</td>\n",
       "      <td>Mg</td>\n",
       "    </tr>\n",
       "    <tr>\n",
       "      <th>7</th>\n",
       "      <td>52.573653</td>\n",
       "      <td>Ca</td>\n",
       "    </tr>\n",
       "    <tr>\n",
       "      <th>8</th>\n",
       "      <td>94.803892</td>\n",
       "      <td>K</td>\n",
       "    </tr>\n",
       "  </tbody>\n",
       "</table>\n",
       "</div>"
      ],
      "text/plain": [
       "   VIF Factor features\n",
       "0   85.311791       Mo\n",
       "1   28.700675       Ba\n",
       "2   18.610717       Cr\n",
       "3   40.164814       Sr\n",
       "4   95.631351       Pb\n",
       "5   27.587390        B\n",
       "6   61.935836       Mg\n",
       "7   52.573653       Ca\n",
       "8   94.803892        K"
      ]
     },
     "execution_count": 7,
     "metadata": {},
     "output_type": "execute_result"
    }
   ],
   "source": [
    "vif = pd.DataFrame()\n",
    "vif['VIF Factor'] = [variance_inflation_factor(INPUT.values, i) for i in range(INPUT.shape[1])]\n",
    "vif['features'] = INPUT.columns\n",
    "vif"
   ]
  },
  {
   "cell_type": "markdown",
   "id": "democratic-workshop",
   "metadata": {},
   "source": [
    "## 실습 2: aromawine 데이터로 ridge 회귀 진행하고, mse 값과 R^2 구하기 (alpha값 0.001, 0.01, 0.1)"
   ]
  },
  {
   "cell_type": "code",
   "execution_count": 8,
   "id": "labeled-enlargement",
   "metadata": {},
   "outputs": [],
   "source": [
    "import numpy as np\n",
    "import pandas as pd\n",
    "from sklearn.linear_model import LinearRegression\n",
    "from sklearn.metrics import mean_squared_error, r2_score\n",
    "import matplotlib.pyplot as plt\n",
    "import seaborn as sns\n",
    "from sklearn.model_selection import train_test_split\n",
    "from sklearn.linear_model import Lasso\n",
    "from sklearn.linear_model import Ridge\n",
    "from sklearn.linear_model import ElasticNet\n",
    "from statsmodels.stats.outliers_influence import variance_inflation_factor"
   ]
  },
  {
   "cell_type": "code",
   "execution_count": 9,
   "id": "9334f2a0-82d0-4e9a-b1d2-c1850ac082b6",
   "metadata": {},
   "outputs": [],
   "source": [
    "wine = pd.read_excel('./data/wine_aroma.xlsx')\n",
    "\n",
    "INPUT = wine.drop(columns=['Aroma'])\n",
    "OUTPUT = wine['Aroma']"
   ]
  },
  {
   "cell_type": "code",
   "execution_count": 10,
   "id": "structural-aside",
   "metadata": {},
   "outputs": [
    {
     "name": "stdout",
     "output_type": "stream",
     "text": [
      "Ridge regression => alpha: 0.0010, mse: 0.19628421, R2_score: 0.832964\n",
      "Ridge regression => alpha: 0.0100, mse: 0.22110930, R2_score: 0.811839\n",
      "Ridge regression => alpha: 0.1000, mse: 0.24513247, R2_score: 0.791395\n"
     ]
    }
   ],
   "source": [
    "alphas= [0.001, 0.01, 0.1]\n",
    "\n",
    "for a in alphas:\n",
    "    model = Ridge(alpha=a).fit(INPUT, OUTPUT)\n",
    "    y_pred = model.predict(INPUT)\n",
    "    mse = mean_squared_error(OUTPUT, y_pred)\n",
    "    score = r2_score(OUTPUT, y_pred)\n",
    "    print(f\"Ridge regression => alpha: {a:.4f}, mse: {mse:.8f}, R2_score: {score:.6f}\")"
   ]
  },
  {
   "cell_type": "markdown",
   "id": "liked-eugene",
   "metadata": {},
   "source": [
    "## 실습 3: aromawine 데이터로 선형 회귀 모형 만들고 adjusted r^2 값 구하기"
   ]
  },
  {
   "cell_type": "code",
   "execution_count": 11,
   "id": "residential-lightweight",
   "metadata": {},
   "outputs": [],
   "source": [
    "import numpy as np\n",
    "import pandas as pd\n",
    "from sklearn.linear_model import LinearRegression\n",
    "from sklearn.metrics import mean_squared_error, r2_score\n",
    "import matplotlib.pyplot as plt\n",
    "import seaborn as sns\n",
    "from sklearn.model_selection import train_test_split\n",
    "from sklearn.linear_model import Lasso\n",
    "from sklearn.linear_model import Ridge\n",
    "from sklearn.linear_model import ElasticNet\n",
    "from statsmodels.stats.outliers_influence import variance_inflation_factor"
   ]
  },
  {
   "cell_type": "code",
   "execution_count": 12,
   "id": "psychological-romance",
   "metadata": {},
   "outputs": [],
   "source": [
    "wine = pd.read_excel('./data/wine_aroma.xlsx')\n",
    "\n",
    "INPUT = wine.drop(columns=['Aroma'])\n",
    "OUTPUT = wine['Aroma']"
   ]
  },
  {
   "cell_type": "code",
   "execution_count": 13,
   "id": "2e27514d-f3b4-4d62-adad-d68886ed12f6",
   "metadata": {},
   "outputs": [
    {
     "name": "stdout",
     "output_type": "stream",
     "text": [
      "Linear Regression => mse: 0.193368, R2_score: 0.835446, adjusted_R2: 0.736714\n"
     ]
    }
   ],
   "source": [
    "model = LinearRegression().fit(INPUT, OUTPUT)\n",
    "y_pred = model.predict(INPUT)\n",
    "mse = mean_squared_error(OUTPUT, y_pred)\n",
    "score = r2_score(OUTPUT, y_pred)\n",
    "adj_score = 1 - (1 - score) * (len(OUTPUT)-1) / (len(OUTPUT) - INPUT.shape[1] - 1)\n",
    "print(f\"Linear Regression => mse: {mse:.6f}, R2_score: {score:.6f}, adjusted_R2: {adj_score:.6f}\")"
   ]
  },
  {
   "cell_type": "code",
   "execution_count": null,
   "id": "aa7d760d-a866-41eb-b819-3f4b39d1631f",
   "metadata": {},
   "outputs": [],
   "source": []
  }
 ],
 "metadata": {
  "kernelspec": {
   "display_name": "Python 3 (ipykernel)",
   "language": "python",
   "name": "python3"
  },
  "language_info": {
   "codemirror_mode": {
    "name": "ipython",
    "version": 3
   },
   "file_extension": ".py",
   "mimetype": "text/x-python",
   "name": "python",
   "nbconvert_exporter": "python",
   "pygments_lexer": "ipython3",
   "version": "3.9.7"
  }
 },
 "nbformat": 4,
 "nbformat_minor": 5
}
