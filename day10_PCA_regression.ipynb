{
 "cells": [
  {
   "cell_type": "code",
   "execution_count": 18,
   "id": "shared-trash",
   "metadata": {},
   "outputs": [],
   "source": [
    "import numpy as np\n",
    "import pandas as pd\n",
    "import matplotlib.pyplot as plt\n",
    "from sklearn import svm\n",
    "from sklearn.linear_model import LinearRegression\n",
    "from sklearn.model_selection import train_test_split\n",
    "from sklearn.model_selection import cross_val_score\n",
    "from sklearn.metrics import mean_squared_error, r2_score\n",
    "from sklearn.preprocessing import scale\n",
    "from sklearn.decomposition import PCA"
   ]
  },
  {
   "cell_type": "markdown",
   "id": "permanent-beverage",
   "metadata": {},
   "source": [
    "### 실습 과제 1. Boston_house_small 데이터를 활용한 PCA + regression 실습\n",
    "\n",
    "#### 1) 데이터 불러온 후 train_data : test_data = 7:3 split, random_state=10\n",
    "** 종속변수는 ‘Target', 독립변수는 나머지 변수"
   ]
  },
  {
   "cell_type": "code",
   "execution_count": 2,
   "id": "analyzed-familiar",
   "metadata": {},
   "outputs": [
    {
     "data": {
      "text/html": [
       "<div>\n",
       "<style scoped>\n",
       "    .dataframe tbody tr th:only-of-type {\n",
       "        vertical-align: middle;\n",
       "    }\n",
       "\n",
       "    .dataframe tbody tr th {\n",
       "        vertical-align: top;\n",
       "    }\n",
       "\n",
       "    .dataframe thead th {\n",
       "        text-align: right;\n",
       "    }\n",
       "</style>\n",
       "<table border=\"1\" class=\"dataframe\">\n",
       "  <thead>\n",
       "    <tr style=\"text-align: right;\">\n",
       "      <th></th>\n",
       "      <th>AGE</th>\n",
       "      <th>B</th>\n",
       "      <th>RM</th>\n",
       "      <th>CRIM</th>\n",
       "      <th>DIS</th>\n",
       "      <th>INDUS</th>\n",
       "      <th>LSTAT</th>\n",
       "      <th>NOX</th>\n",
       "      <th>PTRATIO</th>\n",
       "      <th>RAD</th>\n",
       "      <th>ZN</th>\n",
       "      <th>TAX</th>\n",
       "      <th>CHAS</th>\n",
       "      <th>Target</th>\n",
       "    </tr>\n",
       "  </thead>\n",
       "  <tbody>\n",
       "    <tr>\n",
       "      <th>0</th>\n",
       "      <td>40.3</td>\n",
       "      <td>392.92</td>\n",
       "      <td>5.762</td>\n",
       "      <td>2.81838</td>\n",
       "      <td>4.0983</td>\n",
       "      <td>18.10</td>\n",
       "      <td>10.42</td>\n",
       "      <td>0.532</td>\n",
       "      <td>20.2</td>\n",
       "      <td>24</td>\n",
       "      <td>0.0</td>\n",
       "      <td>666</td>\n",
       "      <td>0</td>\n",
       "      <td>21.8</td>\n",
       "    </tr>\n",
       "    <tr>\n",
       "      <th>1</th>\n",
       "      <td>59.7</td>\n",
       "      <td>24.65</td>\n",
       "      <td>5.837</td>\n",
       "      <td>12.24720</td>\n",
       "      <td>1.9976</td>\n",
       "      <td>18.10</td>\n",
       "      <td>15.69</td>\n",
       "      <td>0.584</td>\n",
       "      <td>20.2</td>\n",
       "      <td>24</td>\n",
       "      <td>0.0</td>\n",
       "      <td>666</td>\n",
       "      <td>0</td>\n",
       "      <td>10.2</td>\n",
       "    </tr>\n",
       "    <tr>\n",
       "      <th>2</th>\n",
       "      <td>91.7</td>\n",
       "      <td>396.90</td>\n",
       "      <td>6.142</td>\n",
       "      <td>1.23247</td>\n",
       "      <td>3.9769</td>\n",
       "      <td>8.14</td>\n",
       "      <td>18.72</td>\n",
       "      <td>0.538</td>\n",
       "      <td>21.0</td>\n",
       "      <td>4</td>\n",
       "      <td>0.0</td>\n",
       "      <td>307</td>\n",
       "      <td>0</td>\n",
       "      <td>15.2</td>\n",
       "    </tr>\n",
       "    <tr>\n",
       "      <th>3</th>\n",
       "      <td>52.6</td>\n",
       "      <td>390.30</td>\n",
       "      <td>7.470</td>\n",
       "      <td>0.54050</td>\n",
       "      <td>2.8720</td>\n",
       "      <td>3.97</td>\n",
       "      <td>3.16</td>\n",
       "      <td>0.575</td>\n",
       "      <td>13.0</td>\n",
       "      <td>5</td>\n",
       "      <td>20.0</td>\n",
       "      <td>264</td>\n",
       "      <td>0</td>\n",
       "      <td>43.5</td>\n",
       "    </tr>\n",
       "    <tr>\n",
       "      <th>4</th>\n",
       "      <td>100.0</td>\n",
       "      <td>366.15</td>\n",
       "      <td>6.216</td>\n",
       "      <td>9.23230</td>\n",
       "      <td>1.1691</td>\n",
       "      <td>18.10</td>\n",
       "      <td>9.53</td>\n",
       "      <td>0.631</td>\n",
       "      <td>20.2</td>\n",
       "      <td>24</td>\n",
       "      <td>0.0</td>\n",
       "      <td>666</td>\n",
       "      <td>0</td>\n",
       "      <td>50.0</td>\n",
       "    </tr>\n",
       "  </tbody>\n",
       "</table>\n",
       "</div>"
      ],
      "text/plain": [
       "     AGE       B     RM      CRIM     DIS  INDUS  LSTAT    NOX  PTRATIO  RAD  \\\n",
       "0   40.3  392.92  5.762   2.81838  4.0983  18.10  10.42  0.532     20.2   24   \n",
       "1   59.7   24.65  5.837  12.24720  1.9976  18.10  15.69  0.584     20.2   24   \n",
       "2   91.7  396.90  6.142   1.23247  3.9769   8.14  18.72  0.538     21.0    4   \n",
       "3   52.6  390.30  7.470   0.54050  2.8720   3.97   3.16  0.575     13.0    5   \n",
       "4  100.0  366.15  6.216   9.23230  1.1691  18.10   9.53  0.631     20.2   24   \n",
       "\n",
       "     ZN  TAX  CHAS  Target  \n",
       "0   0.0  666     0    21.8  \n",
       "1   0.0  666     0    10.2  \n",
       "2   0.0  307     0    15.2  \n",
       "3  20.0  264     0    43.5  \n",
       "4   0.0  666     0    50.0  "
      ]
     },
     "execution_count": 2,
     "metadata": {},
     "output_type": "execute_result"
    }
   ],
   "source": [
    "df = pd.read_csv('./data/Boston_house_small.csv')\n",
    "df.head()"
   ]
  },
  {
   "cell_type": "code",
   "execution_count": 3,
   "id": "7f048472-8927-4ca5-8efb-1701e8a9a369",
   "metadata": {},
   "outputs": [
    {
     "name": "stdout",
     "output_type": "stream",
     "text": [
      "<class 'pandas.core.frame.DataFrame'>\n",
      "RangeIndex: 60 entries, 0 to 59\n",
      "Data columns (total 14 columns):\n",
      " #   Column   Non-Null Count  Dtype  \n",
      "---  ------   --------------  -----  \n",
      " 0   AGE      60 non-null     float64\n",
      " 1   B        60 non-null     float64\n",
      " 2   RM       60 non-null     float64\n",
      " 3   CRIM     60 non-null     float64\n",
      " 4   DIS      60 non-null     float64\n",
      " 5   INDUS    60 non-null     float64\n",
      " 6   LSTAT    60 non-null     float64\n",
      " 7   NOX      60 non-null     float64\n",
      " 8   PTRATIO  60 non-null     float64\n",
      " 9   RAD      60 non-null     int64  \n",
      " 10  ZN       60 non-null     float64\n",
      " 11  TAX      60 non-null     int64  \n",
      " 12  CHAS     60 non-null     int64  \n",
      " 13  Target   60 non-null     float64\n",
      "dtypes: float64(11), int64(3)\n",
      "memory usage: 6.7 KB\n"
     ]
    },
    {
     "data": {
      "text/html": [
       "<div>\n",
       "<style scoped>\n",
       "    .dataframe tbody tr th:only-of-type {\n",
       "        vertical-align: middle;\n",
       "    }\n",
       "\n",
       "    .dataframe tbody tr th {\n",
       "        vertical-align: top;\n",
       "    }\n",
       "\n",
       "    .dataframe thead th {\n",
       "        text-align: right;\n",
       "    }\n",
       "</style>\n",
       "<table border=\"1\" class=\"dataframe\">\n",
       "  <thead>\n",
       "    <tr style=\"text-align: right;\">\n",
       "      <th></th>\n",
       "      <th>AGE</th>\n",
       "      <th>B</th>\n",
       "      <th>RM</th>\n",
       "      <th>CRIM</th>\n",
       "      <th>DIS</th>\n",
       "      <th>INDUS</th>\n",
       "      <th>LSTAT</th>\n",
       "      <th>NOX</th>\n",
       "      <th>PTRATIO</th>\n",
       "      <th>RAD</th>\n",
       "      <th>ZN</th>\n",
       "      <th>TAX</th>\n",
       "      <th>CHAS</th>\n",
       "      <th>Target</th>\n",
       "    </tr>\n",
       "  </thead>\n",
       "  <tbody>\n",
       "    <tr>\n",
       "      <th>count</th>\n",
       "      <td>60.000000</td>\n",
       "      <td>60.000000</td>\n",
       "      <td>60.000000</td>\n",
       "      <td>60.000000</td>\n",
       "      <td>60.000000</td>\n",
       "      <td>60.000000</td>\n",
       "      <td>60.000000</td>\n",
       "      <td>60.000000</td>\n",
       "      <td>60.000000</td>\n",
       "      <td>60.000000</td>\n",
       "      <td>60.000000</td>\n",
       "      <td>60.000000</td>\n",
       "      <td>60.000000</td>\n",
       "      <td>60.000000</td>\n",
       "    </tr>\n",
       "    <tr>\n",
       "      <th>mean</th>\n",
       "      <td>68.041667</td>\n",
       "      <td>354.305333</td>\n",
       "      <td>6.318433</td>\n",
       "      <td>3.102863</td>\n",
       "      <td>3.901313</td>\n",
       "      <td>10.775833</td>\n",
       "      <td>12.076167</td>\n",
       "      <td>0.552950</td>\n",
       "      <td>18.691667</td>\n",
       "      <td>9.950000</td>\n",
       "      <td>9.983333</td>\n",
       "      <td>410.116667</td>\n",
       "      <td>0.033333</td>\n",
       "      <td>22.955000</td>\n",
       "    </tr>\n",
       "    <tr>\n",
       "      <th>std</th>\n",
       "      <td>27.135150</td>\n",
       "      <td>91.194366</td>\n",
       "      <td>0.699257</td>\n",
       "      <td>5.540228</td>\n",
       "      <td>2.326631</td>\n",
       "      <td>7.016623</td>\n",
       "      <td>6.163047</td>\n",
       "      <td>0.106549</td>\n",
       "      <td>1.970829</td>\n",
       "      <td>9.018672</td>\n",
       "      <td>23.614303</td>\n",
       "      <td>180.034280</td>\n",
       "      <td>0.181020</td>\n",
       "      <td>10.373098</td>\n",
       "    </tr>\n",
       "    <tr>\n",
       "      <th>min</th>\n",
       "      <td>6.500000</td>\n",
       "      <td>10.480000</td>\n",
       "      <td>5.155000</td>\n",
       "      <td>0.014320</td>\n",
       "      <td>1.169100</td>\n",
       "      <td>1.320000</td>\n",
       "      <td>2.470000</td>\n",
       "      <td>0.398000</td>\n",
       "      <td>13.000000</td>\n",
       "      <td>2.000000</td>\n",
       "      <td>0.000000</td>\n",
       "      <td>187.000000</td>\n",
       "      <td>0.000000</td>\n",
       "      <td>7.000000</td>\n",
       "    </tr>\n",
       "    <tr>\n",
       "      <th>25%</th>\n",
       "      <td>52.400000</td>\n",
       "      <td>374.197500</td>\n",
       "      <td>5.866500</td>\n",
       "      <td>0.128445</td>\n",
       "      <td>2.260625</td>\n",
       "      <td>5.130000</td>\n",
       "      <td>6.632500</td>\n",
       "      <td>0.462500</td>\n",
       "      <td>17.875000</td>\n",
       "      <td>4.000000</td>\n",
       "      <td>0.000000</td>\n",
       "      <td>276.000000</td>\n",
       "      <td>0.000000</td>\n",
       "      <td>16.225000</td>\n",
       "    </tr>\n",
       "    <tr>\n",
       "      <th>50%</th>\n",
       "      <td>71.650000</td>\n",
       "      <td>392.080000</td>\n",
       "      <td>6.177000</td>\n",
       "      <td>0.289365</td>\n",
       "      <td>3.290150</td>\n",
       "      <td>8.140000</td>\n",
       "      <td>12.830000</td>\n",
       "      <td>0.538000</td>\n",
       "      <td>19.150000</td>\n",
       "      <td>5.000000</td>\n",
       "      <td>0.000000</td>\n",
       "      <td>320.500000</td>\n",
       "      <td>0.000000</td>\n",
       "      <td>21.250000</td>\n",
       "    </tr>\n",
       "    <tr>\n",
       "      <th>75%</th>\n",
       "      <td>90.950000</td>\n",
       "      <td>396.900000</td>\n",
       "      <td>6.565000</td>\n",
       "      <td>4.094135</td>\n",
       "      <td>4.575800</td>\n",
       "      <td>18.100000</td>\n",
       "      <td>15.715000</td>\n",
       "      <td>0.616500</td>\n",
       "      <td>20.200000</td>\n",
       "      <td>24.000000</td>\n",
       "      <td>0.000000</td>\n",
       "      <td>666.000000</td>\n",
       "      <td>0.000000</td>\n",
       "      <td>24.850000</td>\n",
       "    </tr>\n",
       "    <tr>\n",
       "      <th>max</th>\n",
       "      <td>100.000000</td>\n",
       "      <td>396.900000</td>\n",
       "      <td>8.337000</td>\n",
       "      <td>28.655800</td>\n",
       "      <td>12.126500</td>\n",
       "      <td>27.740000</td>\n",
       "      <td>30.810000</td>\n",
       "      <td>0.871000</td>\n",
       "      <td>21.200000</td>\n",
       "      <td>24.000000</td>\n",
       "      <td>100.000000</td>\n",
       "      <td>711.000000</td>\n",
       "      <td>1.000000</td>\n",
       "      <td>50.000000</td>\n",
       "    </tr>\n",
       "  </tbody>\n",
       "</table>\n",
       "</div>"
      ],
      "text/plain": [
       "              AGE           B         RM       CRIM        DIS      INDUS  \\\n",
       "count   60.000000   60.000000  60.000000  60.000000  60.000000  60.000000   \n",
       "mean    68.041667  354.305333   6.318433   3.102863   3.901313  10.775833   \n",
       "std     27.135150   91.194366   0.699257   5.540228   2.326631   7.016623   \n",
       "min      6.500000   10.480000   5.155000   0.014320   1.169100   1.320000   \n",
       "25%     52.400000  374.197500   5.866500   0.128445   2.260625   5.130000   \n",
       "50%     71.650000  392.080000   6.177000   0.289365   3.290150   8.140000   \n",
       "75%     90.950000  396.900000   6.565000   4.094135   4.575800  18.100000   \n",
       "max    100.000000  396.900000   8.337000  28.655800  12.126500  27.740000   \n",
       "\n",
       "           LSTAT        NOX    PTRATIO        RAD          ZN         TAX  \\\n",
       "count  60.000000  60.000000  60.000000  60.000000   60.000000   60.000000   \n",
       "mean   12.076167   0.552950  18.691667   9.950000    9.983333  410.116667   \n",
       "std     6.163047   0.106549   1.970829   9.018672   23.614303  180.034280   \n",
       "min     2.470000   0.398000  13.000000   2.000000    0.000000  187.000000   \n",
       "25%     6.632500   0.462500  17.875000   4.000000    0.000000  276.000000   \n",
       "50%    12.830000   0.538000  19.150000   5.000000    0.000000  320.500000   \n",
       "75%    15.715000   0.616500  20.200000  24.000000    0.000000  666.000000   \n",
       "max    30.810000   0.871000  21.200000  24.000000  100.000000  711.000000   \n",
       "\n",
       "            CHAS     Target  \n",
       "count  60.000000  60.000000  \n",
       "mean    0.033333  22.955000  \n",
       "std     0.181020  10.373098  \n",
       "min     0.000000   7.000000  \n",
       "25%     0.000000  16.225000  \n",
       "50%     0.000000  21.250000  \n",
       "75%     0.000000  24.850000  \n",
       "max     1.000000  50.000000  "
      ]
     },
     "execution_count": 3,
     "metadata": {},
     "output_type": "execute_result"
    }
   ],
   "source": [
    "df.info()\n",
    "df.describe()"
   ]
  },
  {
   "cell_type": "code",
   "execution_count": 5,
   "id": "cdbc9554-6ab2-4351-9d5d-a855a7e49a77",
   "metadata": {},
   "outputs": [
    {
     "name": "stdout",
     "output_type": "stream",
     "text": [
      "X_train dataset shape: (42, 13)\n",
      "X_test dataset shape: (18, 13)\n"
     ]
    }
   ],
   "source": [
    "X = df.drop(columns='Target', axis=1)\n",
    "Y = df['Target']\n",
    "\n",
    "X_train, X_test, y_train, y_test = train_test_split(X, Y, test_size=0.3, random_state=10)\n",
    "\n",
    "print(f\"X_train dataset shape: {X_train.shape}\")\n",
    "print(f\"X_test dataset shape: {X_test.shape}\")"
   ]
  },
  {
   "cell_type": "markdown",
   "id": "configured-radiation",
   "metadata": {},
   "source": [
    "#### 2) PCA 수행해서 주성분(principal component) 개수에 따른 mean squared Error 그래프 그리고, principal component 개수에 따른 PCA의 explained_variance_ratio 구하기\n",
    "**cross_val_score 함수 이용해서(cv=5) principal component 5개까지 mean squared error 구하기\n",
    " "
   ]
  },
  {
   "cell_type": "code",
   "execution_count": 11,
   "id": "plain-engagement",
   "metadata": {},
   "outputs": [
    {
     "data": {
      "image/png": "[encoded data removed]",
      "text/plain": [
       "<Figure size 432x288 with 1 Axes>"
      ]
     },
     "metadata": {
      "needs_background": "light"
     },
     "output_type": "display_data"
    },
    {
     "name": "stdout",
     "output_type": "stream",
     "text": [
      "Explained Varicance per principal component: \n",
      "[0.4903983  0.10552172 0.08436537 0.07794373 0.06522836 0.05725848\n",
      " 0.04260774 0.02852523 0.01583058 0.01303964 0.01268944 0.00498424\n",
      " 0.00160716]\n"
     ]
    }
   ],
   "source": [
    "pca = PCA()\n",
    "X_train_reduced = pca.fit_transform(scale(X_train))\n",
    "lr = LinearRegression()\n",
    "mse = []\n",
    "\n",
    "for i in np.arange(1, 6):\n",
    "    score = -1 * cross_val_score(lr, X_train_reduced[:,:i], y_train, cv=5, scoring='neg_mean_squared_error').mean()\n",
    "    mse.append(score)\n",
    "\n",
    "num_pc = np.arange(1, 6)\n",
    "plt.plot(num_pc, mse)\n",
    "plt.xlabel('Number of Principal Components')\n",
    "plt.ylabel('MSE')\n",
    "plt.title('hp')\n",
    "plt.show()\n",
    "\n",
    "print(f\"Explained Varicance per principal component: \\n{pca.explained_variance_ratio_}\")"
   ]
  },
  {
   "cell_type": "markdown",
   "id": "breeding-mouse",
   "metadata": {},
   "source": [
    "#### 3) 가장 작은 mean squared error 가지는 주성분 개수로  PCA 수행하고, regression을 하기. 검증 데이터(test data)에 대한 mean squared error 구하고,  모델의 R^2 구하기"
   ]
  },
  {
   "cell_type": "code",
   "execution_count": 12,
   "id": "soviet-senegal",
   "metadata": {},
   "outputs": [
    {
     "name": "stdout",
     "output_type": "stream",
     "text": [
      "RMSE: 6.0355633179031285\n",
      "R^2: 0.7305351279833863\n"
     ]
    }
   ],
   "source": [
    "pca = PCA(n_components=3)\n",
    "X_train_reduced = pca.fit_transform(scale(X_train))\n",
    "X_test_reduced = pca.transform(scale(X_test))\n",
    "\n",
    "lr = LinearRegression()\n",
    "lr.fit(X_train_reduced, y_train)\n",
    "pred = lr.predict(X_test_reduced)\n",
    "\n",
    "print(f\"RMSE: {np.sqrt(mean_squared_error(y_test, pred))}\")\n",
    "print(f\"R^2: {r2_score(y_test, pred)}\")"
   ]
  },
  {
   "cell_type": "markdown",
   "id": "freelance-accreditation",
   "metadata": {},
   "source": [
    "#### 4)  PCA 없이 regression 하기. 검증 데이터(test data)에 대한 mean squared error 구하고,  모델이 R^2 구한 후 PCA를 수행한 결과와 비교하기"
   ]
  },
  {
   "cell_type": "code",
   "execution_count": 13,
   "id": "active-disney",
   "metadata": {},
   "outputs": [
    {
     "name": "stdout",
     "output_type": "stream",
     "text": [
      "RMSE: 6.839887639217207\n",
      "R^2: 0.6539295864346182\n"
     ]
    }
   ],
   "source": [
    "lr = LinearRegression()\n",
    "lr.fit(X_train, y_train)\n",
    "pred = lr.predict(X_test)\n",
    "\n",
    "print(f\"RMSE: {np.sqrt(mean_squared_error(y_test, pred))}\")\n",
    "print(f\"R^2: {r2_score(y_test, pred)}\")"
   ]
  },
  {
   "cell_type": "markdown",
   "id": "diagnostic-handy",
   "metadata": {},
   "source": [
    "### 실습 과제 2. Iris 데이터를 활용한 PCA + SVM 실습\n",
    "\n",
    "#### 1) 데이터 불러온 후 train_data : test_data = 7:3 split, random_state=100\n",
    "** 종속변수는 ‘Target', 독립변수는 나머지 변수"
   ]
  },
  {
   "cell_type": "code",
   "execution_count": 14,
   "id": "adaptive-force",
   "metadata": {},
   "outputs": [
    {
     "data": {
      "text/html": [
       "<div>\n",
       "<style scoped>\n",
       "    .dataframe tbody tr th:only-of-type {\n",
       "        vertical-align: middle;\n",
       "    }\n",
       "\n",
       "    .dataframe tbody tr th {\n",
       "        vertical-align: top;\n",
       "    }\n",
       "\n",
       "    .dataframe thead th {\n",
       "        text-align: right;\n",
       "    }\n",
       "</style>\n",
       "<table border=\"1\" class=\"dataframe\">\n",
       "  <thead>\n",
       "    <tr style=\"text-align: right;\">\n",
       "      <th></th>\n",
       "      <th>Sepal.Length</th>\n",
       "      <th>Sepal.Width</th>\n",
       "      <th>Petal.Length</th>\n",
       "      <th>Petal.Width</th>\n",
       "      <th>Species</th>\n",
       "    </tr>\n",
       "  </thead>\n",
       "  <tbody>\n",
       "    <tr>\n",
       "      <th>0</th>\n",
       "      <td>5.1</td>\n",
       "      <td>3.5</td>\n",
       "      <td>1.4</td>\n",
       "      <td>0.2</td>\n",
       "      <td>setosa</td>\n",
       "    </tr>\n",
       "    <tr>\n",
       "      <th>1</th>\n",
       "      <td>4.9</td>\n",
       "      <td>3.0</td>\n",
       "      <td>1.4</td>\n",
       "      <td>0.2</td>\n",
       "      <td>setosa</td>\n",
       "    </tr>\n",
       "    <tr>\n",
       "      <th>2</th>\n",
       "      <td>4.7</td>\n",
       "      <td>3.2</td>\n",
       "      <td>1.3</td>\n",
       "      <td>0.2</td>\n",
       "      <td>setosa</td>\n",
       "    </tr>\n",
       "    <tr>\n",
       "      <th>3</th>\n",
       "      <td>4.6</td>\n",
       "      <td>3.1</td>\n",
       "      <td>1.5</td>\n",
       "      <td>0.2</td>\n",
       "      <td>setosa</td>\n",
       "    </tr>\n",
       "    <tr>\n",
       "      <th>4</th>\n",
       "      <td>5.0</td>\n",
       "      <td>3.6</td>\n",
       "      <td>1.4</td>\n",
       "      <td>0.2</td>\n",
       "      <td>setosa</td>\n",
       "    </tr>\n",
       "  </tbody>\n",
       "</table>\n",
       "</div>"
      ],
      "text/plain": [
       "   Sepal.Length  Sepal.Width  Petal.Length  Petal.Width Species\n",
       "0           5.1          3.5           1.4          0.2  setosa\n",
       "1           4.9          3.0           1.4          0.2  setosa\n",
       "2           4.7          3.2           1.3          0.2  setosa\n",
       "3           4.6          3.1           1.5          0.2  setosa\n",
       "4           5.0          3.6           1.4          0.2  setosa"
      ]
     },
     "execution_count": 14,
     "metadata": {},
     "output_type": "execute_result"
    }
   ],
   "source": [
    "iris_df = pd.read_csv('./data/Iris.csv')\n",
    "iris_df.head()"
   ]
  },
  {
   "cell_type": "code",
   "execution_count": 15,
   "id": "e2437014-60a9-4bb0-8bc7-89b9256ea78f",
   "metadata": {},
   "outputs": [
    {
     "name": "stdout",
     "output_type": "stream",
     "text": [
      "<class 'pandas.core.frame.DataFrame'>\n",
      "RangeIndex: 150 entries, 0 to 149\n",
      "Data columns (total 5 columns):\n",
      " #   Column        Non-Null Count  Dtype  \n",
      "---  ------        --------------  -----  \n",
      " 0   Sepal.Length  150 non-null    float64\n",
      " 1   Sepal.Width   150 non-null    float64\n",
      " 2   Petal.Length  150 non-null    float64\n",
      " 3   Petal.Width   150 non-null    float64\n",
      " 4   Species       150 non-null    object \n",
      "dtypes: float64(4), object(1)\n",
      "memory usage: 6.0+ KB\n"
     ]
    },
    {
     "data": {
      "text/html": [
       "<div>\n",
       "<style scoped>\n",
       "    .dataframe tbody tr th:only-of-type {\n",
       "        vertical-align: middle;\n",
       "    }\n",
       "\n",
       "    .dataframe tbody tr th {\n",
       "        vertical-align: top;\n",
       "    }\n",
       "\n",
       "    .dataframe thead th {\n",
       "        text-align: right;\n",
       "    }\n",
       "</style>\n",
       "<table border=\"1\" class=\"dataframe\">\n",
       "  <thead>\n",
       "    <tr style=\"text-align: right;\">\n",
       "      <th></th>\n",
       "      <th>Sepal.Length</th>\n",
       "      <th>Sepal.Width</th>\n",
       "      <th>Petal.Length</th>\n",
       "      <th>Petal.Width</th>\n",
       "    </tr>\n",
       "  </thead>\n",
       "  <tbody>\n",
       "    <tr>\n",
       "      <th>count</th>\n",
       "      <td>150.000000</td>\n",
       "      <td>150.000000</td>\n",
       "      <td>150.000000</td>\n",
       "      <td>150.000000</td>\n",
       "    </tr>\n",
       "    <tr>\n",
       "      <th>mean</th>\n",
       "      <td>5.843333</td>\n",
       "      <td>3.057333</td>\n",
       "      <td>3.758000</td>\n",
       "      <td>1.199333</td>\n",
       "    </tr>\n",
       "    <tr>\n",
       "      <th>std</th>\n",
       "      <td>0.828066</td>\n",
       "      <td>0.435866</td>\n",
       "      <td>1.765298</td>\n",
       "      <td>0.762238</td>\n",
       "    </tr>\n",
       "    <tr>\n",
       "      <th>min</th>\n",
       "      <td>4.300000</td>\n",
       "      <td>2.000000</td>\n",
       "      <td>1.000000</td>\n",
       "      <td>0.100000</td>\n",
       "    </tr>\n",
       "    <tr>\n",
       "      <th>25%</th>\n",
       "      <td>5.100000</td>\n",
       "      <td>2.800000</td>\n",
       "      <td>1.600000</td>\n",
       "      <td>0.300000</td>\n",
       "    </tr>\n",
       "    <tr>\n",
       "      <th>50%</th>\n",
       "      <td>5.800000</td>\n",
       "      <td>3.000000</td>\n",
       "      <td>4.350000</td>\n",
       "      <td>1.300000</td>\n",
       "    </tr>\n",
       "    <tr>\n",
       "      <th>75%</th>\n",
       "      <td>6.400000</td>\n",
       "      <td>3.300000</td>\n",
       "      <td>5.100000</td>\n",
       "      <td>1.800000</td>\n",
       "    </tr>\n",
       "    <tr>\n",
       "      <th>max</th>\n",
       "      <td>7.900000</td>\n",
       "      <td>4.400000</td>\n",
       "      <td>6.900000</td>\n",
       "      <td>2.500000</td>\n",
       "    </tr>\n",
       "  </tbody>\n",
       "</table>\n",
       "</div>"
      ],
      "text/plain": [
       "       Sepal.Length  Sepal.Width  Petal.Length  Petal.Width\n",
       "count    150.000000   150.000000    150.000000   150.000000\n",
       "mean       5.843333     3.057333      3.758000     1.199333\n",
       "std        0.828066     0.435866      1.765298     0.762238\n",
       "min        4.300000     2.000000      1.000000     0.100000\n",
       "25%        5.100000     2.800000      1.600000     0.300000\n",
       "50%        5.800000     3.000000      4.350000     1.300000\n",
       "75%        6.400000     3.300000      5.100000     1.800000\n",
       "max        7.900000     4.400000      6.900000     2.500000"
      ]
     },
     "execution_count": 15,
     "metadata": {},
     "output_type": "execute_result"
    }
   ],
   "source": [
    "iris_df.info()\n",
    "iris_df.describe()"
   ]
  },
  {
   "cell_type": "code",
   "execution_count": 30,
   "id": "5a26ca1f-61f8-4bac-9ded-f2e2b8f12d06",
   "metadata": {},
   "outputs": [
    {
     "name": "stdout",
     "output_type": "stream",
     "text": [
      "X_train dataset shape: (105, 4)\n",
      "X_test dataset shape: (45, 4)\n"
     ]
    }
   ],
   "source": [
    "X = iris_df.drop(columns='Species', axis=1)\n",
    "Y = iris_df['Species']\n",
    "\n",
    "X_train, X_test, y_train, y_test = train_test_split(X, Y, test_size=0.3, random_state=100)\n",
    "\n",
    "print(f\"X_train dataset shape: {X_train.shape}\")\n",
    "print(f\"X_test dataset shape: {X_test.shape}\")"
   ]
  },
  {
   "cell_type": "markdown",
   "id": "temporal-chemical",
   "metadata": {},
   "source": [
    "#### 2) PCA 수행해서 주성분(principal component) 개수에 따른 accuracy그래프 그리기\n",
    "**cross_val_score 함수 이용해서(cv=5) principal component 5개까지 accuracy 구하기"
   ]
  },
  {
   "cell_type": "code",
   "execution_count": 31,
   "id": "religious-investigator",
   "metadata": {},
   "outputs": [
    {
     "data": {
      "image/png": "[encoded data removed]",
      "text/plain": [
       "<Figure size 432x288 with 1 Axes>"
      ]
     },
     "metadata": {
      "needs_background": "light"
     },
     "output_type": "display_data"
    }
   ],
   "source": [
    "pca = PCA()\n",
    "X_train_reduced = pca.fit_transform(scale(X_train))\n",
    "accuracy = []\n",
    "\n",
    "for i in np.arange(1, 6):\n",
    "    score = cross_val_score(svm.SVC(), X_train_reduced[:,:i], y_train, cv=5, scoring='accuracy').mean()\n",
    "    accuracy.append(score)\n",
    "\n",
    "num_pc = np.arange(1, 6)\n",
    "plt.plot(num_pc, accuracy)\n",
    "plt.xlabel('Number of Principal Components')\n",
    "plt.ylabel('accuracy')\n",
    "plt.show()\n",
    "\n",
    "# print(f\"Explained Varicance per principal component: \\n{pca.explained_variance_ratio_}\")"
   ]
  },
  {
   "cell_type": "markdown",
   "id": "adolescent-rover",
   "metadata": {},
   "source": [
    "#### 3) 높은 accuracy 가지는 주성분 개수로 PCA 수행하고, 5-fold 교차 검증으로 SVM의 최적 하이퍼파라미터 구하기. 검증 데이터(test data)에 대한 최적 모델의 accuracy와 confusion matrix 구하기\n",
    "** C: [0.01, 0.1, 0.5, 1, 10, 100], gamma: [1, 0.75, 0.5, 0.25, 0.1, 0.01, 0.001], kernel: ['rbf', 'poly', 'linear']"
   ]
  },
  {
   "cell_type": "code",
   "execution_count": 32,
   "id": "floppy-mercy",
   "metadata": {},
   "outputs": [
    {
     "name": "stdout",
     "output_type": "stream",
     "text": [
      "Best params: {'C': 0.5, 'gamma': 1, 'kernel': 'linear'}\n",
      "Accuracy: 0.9333333333333333\n",
      "confusion matrix: \n",
      "[[16  0  0]\n",
      " [ 0 11  0]\n",
      " [ 0  3 15]]\n"
     ]
    }
   ],
   "source": [
    "from sklearn.model_selection import GridSearchCV\n",
    "from sklearn import metrics\n",
    "\n",
    "\n",
    "param_grid = {'C': [0.01, 0.1, 0.5, 1, 10, 100],\n",
    "              'gamma': [1, 0.75, 0.5, 0.25, 0.1, 0.01, 0.001],\n",
    "              'kernel': ['rbf', 'poly', 'linear']}\n",
    "\n",
    "pca = PCA(n_components=3)\n",
    "X_train_reduced = pca.fit_transform(scale(X_train))\n",
    "X_test_reduced = pca.transform(scale(X_test))\n",
    "\n",
    "grid = GridSearchCV(svm.SVC(), param_grid, cv=5, scoring='accuracy', return_train_score=True)\n",
    "grid.fit(X_train_reduced, y_train)\n",
    "\n",
    "best_params = grid.best_params_\n",
    "best_svm = grid.best_estimator_\n",
    "print(f\"Best params: {best_params}\")\n",
    "\n",
    "y_pred = best_svm.predict(X_test_reduced)\n",
    "con_mat = metrics.confusion_matrix(y_test, y_pred)\n",
    "acc_svm = metrics.accuracy_score(y_test, y_pred)\n",
    "print(f\"Accuracy: {acc_svm}\")\n",
    "print(f\"confusion matrix: \\n{con_mat}\")"
   ]
  },
  {
   "cell_type": "markdown",
   "id": "classical-shade",
   "metadata": {},
   "source": [
    "#### 4) PCA 없이 최적 하이퍼파라미터로 SVM 모델 학습하기 , 검증 데이터(test data)에 대한 accuracy와 confusion matrix 구하기"
   ]
  },
  {
   "cell_type": "code",
   "execution_count": 33,
   "id": "thrown-queensland",
   "metadata": {},
   "outputs": [
    {
     "name": "stdout",
     "output_type": "stream",
     "text": [
      "Best params: {'C': 10, 'gamma': 1, 'kernel': 'linear'}\n",
      "Accuracy: 0.9777777777777777\n",
      "confusion matrix: \n",
      "[[16  0  0]\n",
      " [ 0 10  1]\n",
      " [ 0  0 18]]\n"
     ]
    }
   ],
   "source": [
    "grid = GridSearchCV(svm.SVC(), param_grid, cv=5, scoring='accuracy', return_train_score=True)\n",
    "grid.fit(X_train, y_train)\n",
    "\n",
    "best_params = grid.best_params_\n",
    "best_svm = grid.best_estimator_\n",
    "print(f\"Best params: {best_params}\")\n",
    "\n",
    "y_pred = best_svm.predict(X_test)\n",
    "con_mat = metrics.confusion_matrix(y_test, y_pred)\n",
    "acc_svm = metrics.accuracy_score(y_test, y_pred)\n",
    "print(f\"Accuracy: {acc_svm}\")\n",
    "print(f\"confusion matrix: \\n{con_mat}\")"
   ]
  },
  {
   "cell_type": "code",
   "execution_count": null,
   "id": "25f70a4f-d94a-434b-b860-f076754e3600",
   "metadata": {},
   "outputs": [],
   "source": []
  }
 ],
 "metadata": {
  "kernelspec": {
   "display_name": "Python 3 (ipykernel)",
   "language": "python",
   "name": "python3"
  },
  "language_info": {
   "codemirror_mode": {
    "name": "ipython",
    "version": 3
   },
   "file_extension": ".py",
   "mimetype": "text/x-python",
   "name": "python",
   "nbconvert_exporter": "python",
   "pygments_lexer": "ipython3",
   "version": "3.9.7"
  }
 },
 "nbformat": 4,
 "nbformat_minor": 5
}
